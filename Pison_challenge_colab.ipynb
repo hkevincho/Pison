{
  "nbformat": 4,
  "nbformat_minor": 0,
  "metadata": {
    "colab": {
      "name": "Pison_challenge.ipynb",
      "provenance": [],
      "authorship_tag": "ABX9TyMczqAhODqTKYecX7qR+DA7",
      "include_colab_link": true
    },
    "kernelspec": {
      "name": "python3",
      "display_name": "Python 3"
    },
    "language_info": {
      "name": "python"
    }
  },
  "cells": [
    {
      "cell_type": "markdown",
      "metadata": {
        "id": "view-in-github",
        "colab_type": "text"
      },
      "source": [
        "<a href=\"https://colab.research.google.com/github/hkevincho/Pison/blob/main/Pison_challenge_colab.ipynb\" target=\"_parent\"><img src=\"https://colab.research.google.com/assets/colab-badge.svg\" alt=\"Open In Colab\"/></a>"
      ]
    },
    {
      "cell_type": "code",
      "metadata": {
        "id": "pjOGS5RQMwgK"
      },
      "source": [
        ""
      ],
      "execution_count": null,
      "outputs": []
    },
    {
      "cell_type": "code",
      "metadata": {
        "id": "U8VZ3v7wMuQT"
      },
      "source": [
        "# Import Packges\n",
        "import numpy as np\n",
        "import pandas as pd\n",
        "import matplotlib.pyplot as plt"
      ],
      "execution_count": 1,
      "outputs": []
    },
    {
      "cell_type": "code",
      "metadata": {
        "colab": {
          "base_uri": "https://localhost:8080/"
        },
        "id": "zMQj9o3lM7hx",
        "outputId": "c40cc84e-7565-4615-964e-2d7a4a858a97"
      },
      "source": [
        "!pip install tslearn"
      ],
      "execution_count": 4,
      "outputs": [
        {
          "output_type": "stream",
          "name": "stdout",
          "text": [
            "Collecting tslearn\n",
            "  Downloading tslearn-0.5.2-cp37-cp37m-manylinux_2_5_x86_64.manylinux1_x86_64.manylinux_2_12_x86_64.manylinux2010_x86_64.whl (793 kB)\n",
            "\u001b[?25l\r\u001b[K     |▍                               | 10 kB 28.1 MB/s eta 0:00:01\r\u001b[K     |▉                               | 20 kB 33.3 MB/s eta 0:00:01\r\u001b[K     |█▎                              | 30 kB 36.1 MB/s eta 0:00:01\r\u001b[K     |█▋                              | 40 kB 36.3 MB/s eta 0:00:01\r\u001b[K     |██                              | 51 kB 32.5 MB/s eta 0:00:01\r\u001b[K     |██▌                             | 61 kB 31.9 MB/s eta 0:00:01\r\u001b[K     |███                             | 71 kB 31.0 MB/s eta 0:00:01\r\u001b[K     |███▎                            | 81 kB 31.7 MB/s eta 0:00:01\r\u001b[K     |███▊                            | 92 kB 29.2 MB/s eta 0:00:01\r\u001b[K     |████▏                           | 102 kB 30.7 MB/s eta 0:00:01\r\u001b[K     |████▌                           | 112 kB 30.7 MB/s eta 0:00:01\r\u001b[K     |█████                           | 122 kB 30.7 MB/s eta 0:00:01\r\u001b[K     |█████▍                          | 133 kB 30.7 MB/s eta 0:00:01\r\u001b[K     |█████▉                          | 143 kB 30.7 MB/s eta 0:00:01\r\u001b[K     |██████▏                         | 153 kB 30.7 MB/s eta 0:00:01\r\u001b[K     |██████▋                         | 163 kB 30.7 MB/s eta 0:00:01\r\u001b[K     |███████                         | 174 kB 30.7 MB/s eta 0:00:01\r\u001b[K     |███████▍                        | 184 kB 30.7 MB/s eta 0:00:01\r\u001b[K     |███████▉                        | 194 kB 30.7 MB/s eta 0:00:01\r\u001b[K     |████████▎                       | 204 kB 30.7 MB/s eta 0:00:01\r\u001b[K     |████████▊                       | 215 kB 30.7 MB/s eta 0:00:01\r\u001b[K     |█████████                       | 225 kB 30.7 MB/s eta 0:00:01\r\u001b[K     |█████████▌                      | 235 kB 30.7 MB/s eta 0:00:01\r\u001b[K     |██████████                      | 245 kB 30.7 MB/s eta 0:00:01\r\u001b[K     |██████████▎                     | 256 kB 30.7 MB/s eta 0:00:01\r\u001b[K     |██████████▊                     | 266 kB 30.7 MB/s eta 0:00:01\r\u001b[K     |███████████▏                    | 276 kB 30.7 MB/s eta 0:00:01\r\u001b[K     |███████████▋                    | 286 kB 30.7 MB/s eta 0:00:01\r\u001b[K     |████████████                    | 296 kB 30.7 MB/s eta 0:00:01\r\u001b[K     |████████████▍                   | 307 kB 30.7 MB/s eta 0:00:01\r\u001b[K     |████████████▉                   | 317 kB 30.7 MB/s eta 0:00:01\r\u001b[K     |█████████████▏                  | 327 kB 30.7 MB/s eta 0:00:01\r\u001b[K     |█████████████▋                  | 337 kB 30.7 MB/s eta 0:00:01\r\u001b[K     |██████████████                  | 348 kB 30.7 MB/s eta 0:00:01\r\u001b[K     |██████████████▌                 | 358 kB 30.7 MB/s eta 0:00:01\r\u001b[K     |██████████████▉                 | 368 kB 30.7 MB/s eta 0:00:01\r\u001b[K     |███████████████▎                | 378 kB 30.7 MB/s eta 0:00:01\r\u001b[K     |███████████████▊                | 389 kB 30.7 MB/s eta 0:00:01\r\u001b[K     |████████████████▏               | 399 kB 30.7 MB/s eta 0:00:01\r\u001b[K     |████████████████▌               | 409 kB 30.7 MB/s eta 0:00:01\r\u001b[K     |█████████████████               | 419 kB 30.7 MB/s eta 0:00:01\r\u001b[K     |█████████████████▍              | 430 kB 30.7 MB/s eta 0:00:01\r\u001b[K     |█████████████████▊              | 440 kB 30.7 MB/s eta 0:00:01\r\u001b[K     |██████████████████▏             | 450 kB 30.7 MB/s eta 0:00:01\r\u001b[K     |██████████████████▋             | 460 kB 30.7 MB/s eta 0:00:01\r\u001b[K     |███████████████████             | 471 kB 30.7 MB/s eta 0:00:01\r\u001b[K     |███████████████████▍            | 481 kB 30.7 MB/s eta 0:00:01\r\u001b[K     |███████████████████▉            | 491 kB 30.7 MB/s eta 0:00:01\r\u001b[K     |████████████████████▎           | 501 kB 30.7 MB/s eta 0:00:01\r\u001b[K     |████████████████████▋           | 512 kB 30.7 MB/s eta 0:00:01\r\u001b[K     |█████████████████████           | 522 kB 30.7 MB/s eta 0:00:01\r\u001b[K     |█████████████████████▌          | 532 kB 30.7 MB/s eta 0:00:01\r\u001b[K     |██████████████████████          | 542 kB 30.7 MB/s eta 0:00:01\r\u001b[K     |██████████████████████▎         | 552 kB 30.7 MB/s eta 0:00:01\r\u001b[K     |██████████████████████▊         | 563 kB 30.7 MB/s eta 0:00:01\r\u001b[K     |███████████████████████▏        | 573 kB 30.7 MB/s eta 0:00:01\r\u001b[K     |███████████████████████▌        | 583 kB 30.7 MB/s eta 0:00:01\r\u001b[K     |████████████████████████        | 593 kB 30.7 MB/s eta 0:00:01\r\u001b[K     |████████████████████████▍       | 604 kB 30.7 MB/s eta 0:00:01\r\u001b[K     |████████████████████████▉       | 614 kB 30.7 MB/s eta 0:00:01\r\u001b[K     |█████████████████████████▏      | 624 kB 30.7 MB/s eta 0:00:01\r\u001b[K     |█████████████████████████▋      | 634 kB 30.7 MB/s eta 0:00:01\r\u001b[K     |██████████████████████████      | 645 kB 30.7 MB/s eta 0:00:01\r\u001b[K     |██████████████████████████▍     | 655 kB 30.7 MB/s eta 0:00:01\r\u001b[K     |██████████████████████████▉     | 665 kB 30.7 MB/s eta 0:00:01\r\u001b[K     |███████████████████████████▎    | 675 kB 30.7 MB/s eta 0:00:01\r\u001b[K     |███████████████████████████▊    | 686 kB 30.7 MB/s eta 0:00:01\r\u001b[K     |████████████████████████████    | 696 kB 30.7 MB/s eta 0:00:01\r\u001b[K     |████████████████████████████▌   | 706 kB 30.7 MB/s eta 0:00:01\r\u001b[K     |█████████████████████████████   | 716 kB 30.7 MB/s eta 0:00:01\r\u001b[K     |█████████████████████████████▍  | 727 kB 30.7 MB/s eta 0:00:01\r\u001b[K     |█████████████████████████████▊  | 737 kB 30.7 MB/s eta 0:00:01\r\u001b[K     |██████████████████████████████▏ | 747 kB 30.7 MB/s eta 0:00:01\r\u001b[K     |██████████████████████████████▋ | 757 kB 30.7 MB/s eta 0:00:01\r\u001b[K     |███████████████████████████████ | 768 kB 30.7 MB/s eta 0:00:01\r\u001b[K     |███████████████████████████████▍| 778 kB 30.7 MB/s eta 0:00:01\r\u001b[K     |███████████████████████████████▉| 788 kB 30.7 MB/s eta 0:00:01\r\u001b[K     |████████████████████████████████| 793 kB 30.7 MB/s \n",
            "\u001b[?25hRequirement already satisfied: joblib in /usr/local/lib/python3.7/dist-packages (from tslearn) (1.1.0)\n",
            "Requirement already satisfied: numba in /usr/local/lib/python3.7/dist-packages (from tslearn) (0.51.2)\n",
            "Requirement already satisfied: Cython in /usr/local/lib/python3.7/dist-packages (from tslearn) (0.29.24)\n",
            "Requirement already satisfied: numpy in /usr/local/lib/python3.7/dist-packages (from tslearn) (1.19.5)\n",
            "Requirement already satisfied: scipy in /usr/local/lib/python3.7/dist-packages (from tslearn) (1.4.1)\n",
            "Requirement already satisfied: scikit-learn in /usr/local/lib/python3.7/dist-packages (from tslearn) (1.0.1)\n",
            "Requirement already satisfied: llvmlite<0.35,>=0.34.0.dev0 in /usr/local/lib/python3.7/dist-packages (from numba->tslearn) (0.34.0)\n",
            "Requirement already satisfied: setuptools in /usr/local/lib/python3.7/dist-packages (from numba->tslearn) (57.4.0)\n",
            "Requirement already satisfied: threadpoolctl>=2.0.0 in /usr/local/lib/python3.7/dist-packages (from scikit-learn->tslearn) (3.0.0)\n",
            "Installing collected packages: tslearn\n",
            "Successfully installed tslearn-0.5.2\n"
          ]
        }
      ]
    },
    {
      "cell_type": "code",
      "metadata": {
        "id": "LUSssChBMysM"
      },
      "source": [
        "from tslearn.clustering import TimeSeriesKMeans"
      ],
      "execution_count": 5,
      "outputs": []
    }
  ]
}